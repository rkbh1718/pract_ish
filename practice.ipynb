{
 "cells": [
  {
   "cell_type": "code",
   "execution_count": 5,
   "id": "7626536c",
   "metadata": {},
   "outputs": [],
   "source": [
    "## WAP to put duplicate value in a list\n",
    "\n",
    "l=[1,2,2,3,4,4,5]\n",
    "s =list(set(l))*2\n",
    "s.sort()"
   ]
  },
  {
   "cell_type": "code",
   "execution_count": 6,
   "id": "a198d724",
   "metadata": {},
   "outputs": [
    {
     "name": "stdout",
     "output_type": "stream",
     "text": [
      "[1, 1, 2, 2, 3, 3, 4, 4, 5, 5]\n"
     ]
    }
   ],
   "source": [
    "print(s)"
   ]
  },
  {
   "cell_type": "code",
   "execution_count": 10,
   "id": "180cfa45",
   "metadata": {},
   "outputs": [
    {
     "ename": "TypeError",
     "evalue": "unsupported operand type(s) for *: 'set' and 'int'",
     "output_type": "error",
     "traceback": [
      "\u001b[1;31m---------------------------------------------------------------------------\u001b[0m",
      "\u001b[1;31mTypeError\u001b[0m                                 Traceback (most recent call last)",
      "\u001b[1;32m<ipython-input-10-1e2dcb6d98ec>\u001b[0m in \u001b[0;36m<module>\u001b[1;34m\u001b[0m\n\u001b[1;32m----> 1\u001b[1;33m \u001b[0mset\u001b[0m\u001b[1;33m(\u001b[0m\u001b[0ml\u001b[0m\u001b[1;33m)\u001b[0m\u001b[1;33m*\u001b[0m\u001b[1;36m2\u001b[0m\u001b[1;33m\u001b[0m\u001b[1;33m\u001b[0m\u001b[0m\n\u001b[0m",
      "\u001b[1;31mTypeError\u001b[0m: unsupported operand type(s) for *: 'set' and 'int'"
     ]
    }
   ],
   "source": [
    "set(l)*2"
   ]
  },
  {
   "cell_type": "code",
   "execution_count": 12,
   "id": "20007ff1",
   "metadata": {},
   "outputs": [
    {
     "data": {
      "text/plain": [
       "[1, 2, 3, 4, 5, 1, 2, 3, 4, 5]"
      ]
     },
     "execution_count": 12,
     "metadata": {},
     "output_type": "execute_result"
    }
   ],
   "source": [
    "list(set(l))*2"
   ]
  },
  {
   "cell_type": "code",
   "execution_count": 2,
   "id": "a4a824d5",
   "metadata": {},
   "outputs": [],
   "source": [
    "d = {1 : 'ram', 4:\"tta\", 2: \"kk\"}"
   ]
  },
  {
   "cell_type": "code",
   "execution_count": 3,
   "id": "35c13b85",
   "metadata": {},
   "outputs": [
    {
     "name": "stdout",
     "output_type": "stream",
     "text": [
      "{1: 'ram', 4: 'tta', 2: 'kk'}\n"
     ]
    }
   ],
   "source": [
    "print(d)"
   ]
  },
  {
   "cell_type": "code",
   "execution_count": 5,
   "id": "7acc8b55",
   "metadata": {},
   "outputs": [
    {
     "name": "stdout",
     "output_type": "stream",
     "text": [
      "1: ram 2: kk 4: tta "
     ]
    }
   ],
   "source": [
    "for key in sorted(d):\n",
    "    print(\"%s: %s\" %(key, d[key]),end=\" \")"
   ]
  },
  {
   "cell_type": "code",
   "execution_count": 35,
   "id": "aaac3e0c",
   "metadata": {},
   "outputs": [
    {
     "name": "stdout",
     "output_type": "stream",
     "text": [
      "Meow\n",
      "I am a cat. My name is Kitty\n",
      "Meow\n",
      "Bark\n",
      "I am a dog. My name is Fluffy\n",
      "Bark\n"
     ]
    }
   ],
   "source": [
    "class Cat:\n",
    "    def __init__(self, name):\n",
    "        self.name = name\n",
    "        \n",
    "\n",
    "    def info(self):\n",
    "        print(f\"I am a cat. My name is {self.name}\")\n",
    "\n",
    "    def make_sound(self):\n",
    "        print(\"Meow\")\n",
    "\n",
    "\n",
    "class Dog:\n",
    "    def __init__(self, name):\n",
    "        self.name = name\n",
    "        \n",
    "\n",
    "    def info(self):\n",
    "        print(f\"I am a dog. My name is {self.name}\")\n",
    "\n",
    "    def make_sound(self):\n",
    "        print(\"Bark\")\n",
    "\n",
    "\n",
    "cat1 = Cat(\"Kitty\")\n",
    "dog1 = Dog(\"Fluffy\")\n",
    "\n",
    "for animal in (cat1, dog1):\n",
    "    animal.make_sound()\n",
    "    animal.info()\n",
    "    animal.make_sound()\n",
    "\n",
    "      "
   ]
  },
  {
   "cell_type": "code",
   "execution_count": null,
   "id": "d2be9ff3",
   "metadata": {},
   "outputs": [],
   "source": [
    "f =open('test.csv',\"r\")\n",
    "\n",
    "for i in f:\n",
    "    if \n"
   ]
  },
  {
   "cell_type": "code",
   "execution_count": 41,
   "id": "1f1f1130",
   "metadata": {},
   "outputs": [
    {
     "name": "stdout",
     "output_type": "stream",
     "text": [
      "2020\n",
      "2020 is leap year\n"
     ]
    }
   ],
   "source": [
    "year= int(input()) \n",
    "if (year % 400 ==0)  and (year % 100== 0) :\n",
    "    print(\"{} is leap year\".format(year))\n",
    "elif year % 4 ==0 and year % 100 !=0:\n",
    "    print(\"{} is leap year\".format(year))\n",
    "else:\n",
    "    print(\"{} is not a leap year\".format(year))\n",
    "\n",
    "    "
   ]
  },
  {
   "cell_type": "code",
   "execution_count": 1,
   "id": "d0b11027",
   "metadata": {},
   "outputs": [],
   "source": [
    "s =\"this is full stack batch\""
   ]
  },
  {
   "cell_type": "code",
   "execution_count": 2,
   "id": "52f673ce",
   "metadata": {},
   "outputs": [
    {
     "name": "stdout",
     "output_type": "stream",
     "text": [
      "t\n",
      "h\n",
      "i\n",
      "s\n",
      " \n",
      "i\n",
      "s\n",
      " \n",
      "f\n",
      "u\n",
      "l\n",
      "l\n",
      " \n",
      "s\n",
      "t\n",
      "a\n",
      "c\n",
      "k\n",
      " \n",
      "b\n",
      "a\n",
      "t\n",
      "c\n",
      "h\n"
     ]
    }
   ],
   "source": [
    "for i in s:\n",
    "    print(i)"
   ]
  },
  {
   "cell_type": "code",
   "execution_count": 3,
   "id": "7581d7f2",
   "metadata": {},
   "outputs": [
    {
     "name": "stdout",
     "output_type": "stream",
     "text": [
      "24\n"
     ]
    }
   ],
   "source": [
    "## find the length of string\n",
    "count =0\n",
    "for i in s:\n",
    "    count=count +1\n",
    "print(count)"
   ]
  },
  {
   "cell_type": "code",
   "execution_count": 6,
   "id": "0533fad4",
   "metadata": {},
   "outputs": [
    {
     "name": "stdout",
     "output_type": "stream",
     "text": [
      "t 0\n",
      "h 1\n",
      "c 2\n",
      "t 3\n",
      "a 4\n",
      "b 5\n",
      "  6\n",
      "k 7\n",
      "c 8\n",
      "a 9\n",
      "t 10\n",
      "s 11\n",
      "  12\n",
      "l 13\n",
      "l 14\n",
      "u 15\n",
      "f 16\n",
      "  17\n",
      "s 18\n",
      "i 19\n",
      "  20\n",
      "s 21\n",
      "i 22\n",
      "h 23\n"
     ]
    }
   ],
   "source": [
    "for i in range(len(s)):\n",
    "    print(s[-i], i)\n",
    "    "
   ]
  },
  {
   "cell_type": "code",
   "execution_count": 1,
   "id": "42d54c2c",
   "metadata": {},
   "outputs": [
    {
     "name": "stdout",
     "output_type": "stream",
     "text": [
      "h\n",
      "d\n",
      "u\n",
      "s\n"
     ]
    }
   ],
   "source": [
    "s =\"sudh\"\n",
    "ch =len(s)-1\n",
    "while ch >=0:\n",
    "    print(s[ch])\n",
    "    ch =ch-1\n",
    "    \n",
    "    "
   ]
  },
  {
   "cell_type": "code",
   "execution_count": 2,
   "id": "e092c7c8",
   "metadata": {},
   "outputs": [
    {
     "name": "stdout",
     "output_type": "stream",
     "text": [
      "i  is a vowel\n",
      "n is not a vowel\n",
      "e  is a vowel\n",
      "u  is a vowel\n",
      "r is not a vowel\n",
      "o  is a vowel\n",
      "n is not a vowel\n"
     ]
    }
   ],
   "source": [
    "name =\"ineuron\"\n",
    "vowels =\"AaEeIiOoUu\"\n",
    "#for i in range(len(name)-1):\n",
    "for i in name:\n",
    "    if i in vowels:\n",
    "        print(\"{}  is a vowel\".format(i))\n",
    "    else:\n",
    "        print(\"{} is not a vowel\".format(i))\n",
    "        \n",
    "    "
   ]
  },
  {
   "cell_type": "code",
   "execution_count": 4,
   "id": "5730edce",
   "metadata": {},
   "outputs": [
    {
     "name": "stdout",
     "output_type": "stream",
     "text": [
      "enter a data : mom\n",
      "palindrome\n"
     ]
    }
   ],
   "source": [
    "## palindrome\n",
    "\n",
    "s =input(\"enter a data : \")\n",
    "s1 =s[::-1]\n",
    "if s1 == s:\n",
    "    print(\"palindrome\")\n",
    "else:\n",
    "    print(\"not a pallindrome\")\n"
   ]
  },
  {
   "cell_type": "code",
   "execution_count": 6,
   "id": "434e0f1d",
   "metadata": {},
   "outputs": [
    {
     "name": "stdout",
     "output_type": "stream",
     "text": [
      "1\n",
      "2\n",
      "3\n",
      "4\n",
      "5\n",
      "6\n",
      "7\n"
     ]
    }
   ],
   "source": [
    "l = [1,2,3,4,5,6,7]\n",
    "for i in l:\n",
    "    print(i)"
   ]
  },
  {
   "cell_type": "code",
   "execution_count": 8,
   "id": "216f9776",
   "metadata": {},
   "outputs": [
    {
     "name": "stdout",
     "output_type": "stream",
     "text": [
      "s u d h "
     ]
    }
   ],
   "source": [
    "s =\"sudh\"\n",
    "for i in s:\n",
    "    print(i , end = \" \")"
   ]
  },
  {
   "cell_type": "code",
   "execution_count": 11,
   "id": "75e367ae",
   "metadata": {},
   "outputs": [],
   "source": [
    "t =(1,2,3,4,5,6)"
   ]
  },
  {
   "cell_type": "code",
   "execution_count": 12,
   "id": "367090be",
   "metadata": {},
   "outputs": [
    {
     "name": "stdout",
     "output_type": "stream",
     "text": [
      "1\n",
      "2\n",
      "3\n",
      "4\n",
      "5\n",
      "6\n"
     ]
    }
   ],
   "source": [
    "for i in t:\n",
    "    print(i)"
   ]
  },
  {
   "cell_type": "code",
   "execution_count": 17,
   "id": "ac844535",
   "metadata": {},
   "outputs": [],
   "source": [
    "l =[1,4, 5.6, 6+7j, \"sudh\"]"
   ]
  },
  {
   "cell_type": "code",
   "execution_count": 22,
   "id": "d5712987",
   "metadata": {},
   "outputs": [
    {
     "name": "stdout",
     "output_type": "stream",
     "text": [
      "<class 'int'> type of : 1\n",
      "<class 'int'> type of : 4\n",
      "<class 'float'> type of : 5.6\n",
      "<class 'complex'> type of : (6+7j)\n",
      "<class 'str'> type of : sudh\n"
     ]
    }
   ],
   "source": [
    "for i in l:\n",
    "    print(type(i),\"type of :\",  i)"
   ]
  },
  {
   "cell_type": "code",
   "execution_count": 25,
   "id": "ad21c908",
   "metadata": {},
   "outputs": [],
   "source": [
    "l =[1,4, 5.6]"
   ]
  },
  {
   "cell_type": "code",
   "execution_count": 26,
   "id": "54a8cb28",
   "metadata": {},
   "outputs": [],
   "source": [
    "l1= []\n",
    "for i in l:\n",
    "    #print(i+2)\n",
    "    l1.append(i+2)"
   ]
  },
  {
   "cell_type": "code",
   "execution_count": 27,
   "id": "c1d82267",
   "metadata": {},
   "outputs": [
    {
     "data": {
      "text/plain": [
       "[3, 6, 7.6]"
      ]
     },
     "execution_count": 27,
     "metadata": {},
     "output_type": "execute_result"
    }
   ],
   "source": [
    "l1"
   ]
  },
  {
   "cell_type": "code",
   "execution_count": 28,
   "id": "8cc0e6b5",
   "metadata": {},
   "outputs": [],
   "source": [
    "l =[1,45,78,\"sudh\",[56,78,66]]"
   ]
  },
  {
   "cell_type": "code",
   "execution_count": 30,
   "id": "a1aa3c8a",
   "metadata": {},
   "outputs": [
    {
     "name": "stdout",
     "output_type": "stream",
     "text": [
      "1\n",
      "45\n",
      "78\n"
     ]
    }
   ],
   "source": [
    "for i in l:\n",
    "    if type(i) == int:\n",
    "        print(i)"
   ]
  },
  {
   "cell_type": "code",
   "execution_count": 32,
   "id": "8ee6bc51",
   "metadata": {},
   "outputs": [
    {
     "name": "stdout",
     "output_type": "stream",
     "text": [
      "index 0 for an element 1\n",
      "index 1 for an element 45\n",
      "index 2 for an element 78\n",
      "index 3 for an element sudh\n",
      "index 4 for an element [56, 78, 66]\n"
     ]
    }
   ],
   "source": [
    "for i in range(len(l)):\n",
    "    print(\"index\", i, \"for an element\" , l[i])"
   ]
  },
  {
   "cell_type": "code",
   "execution_count": 20,
   "id": "3db890d3",
   "metadata": {},
   "outputs": [],
   "source": [
    "d = {\"india\" : \"IN\" ,\n",
    "     \"canada\" : \"CA\",\n",
    "     \"China\" :\"Ch\",\n",
    "     \"Americaaaa\" : \"am\"\n",
    "}"
   ]
  },
  {
   "cell_type": "code",
   "execution_count": 21,
   "id": "f60dcbd6",
   "metadata": {},
   "outputs": [
    {
     "data": {
      "text/plain": [
       "True"
      ]
     },
     "execution_count": 21,
     "metadata": {},
     "output_type": "execute_result"
    }
   ],
   "source": [
    "\"india\" in d"
   ]
  },
  {
   "cell_type": "code",
   "execution_count": 26,
   "id": "8ed52f8e",
   "metadata": {},
   "outputs": [
    {
     "name": "stdout",
     "output_type": "stream",
     "text": [
      "india\n",
      "canada\n",
      "China\n",
      "Americaaaa\n"
     ]
    }
   ],
   "source": [
    "l_grt= []\n",
    "l_sml= []\n",
    "for i in d:\n",
    "    print(i)\n",
    "    if len(i)  <= 5:\n",
    "        l_sml.append(i)\n",
    "    else:\n",
    "        l_grt.append(i)  "
   ]
  },
  {
   "cell_type": "code",
   "execution_count": 27,
   "id": "f50a624e",
   "metadata": {},
   "outputs": [
    {
     "data": {
      "text/plain": [
       "['canada', 'Americaaaa']"
      ]
     },
     "execution_count": 27,
     "metadata": {},
     "output_type": "execute_result"
    }
   ],
   "source": [
    "l_grt"
   ]
  },
  {
   "cell_type": "code",
   "execution_count": 28,
   "id": "8c2f67bf",
   "metadata": {},
   "outputs": [
    {
     "data": {
      "text/plain": [
       "['india', 'China']"
      ]
     },
     "execution_count": 28,
     "metadata": {},
     "output_type": "execute_result"
    }
   ],
   "source": [
    "l_sml"
   ]
  },
  {
   "cell_type": "code",
   "execution_count": 4,
   "id": "c99edfb1",
   "metadata": {},
   "outputs": [
    {
     "name": "stdout",
     "output_type": "stream",
     "text": [
      "1 Ram\n",
      "2 Rajneesh\n"
     ]
    }
   ],
   "source": [
    "d ={1:\"Ram\", 2 : \"Rajneesh\"}\n",
    "for key,value in d.items():\n",
    "    print(key , value)"
   ]
  },
  {
   "cell_type": "code",
   "execution_count": 32,
   "id": "d73d8361",
   "metadata": {},
   "outputs": [],
   "source": [
    "d_1 = {\"ineuron\" : {\n",
    "                        \"a\" :14,\n",
    "                        \"b\" :10,\n",
    "                        \"c\": 4\n",
    "                    },\n",
    "       \n",
    "           \"course\":  {\n",
    "                            \"d\": 35,\n",
    "                            \"e\" :5,\n",
    "                            \"f\" : 1\n",
    "                        }\n",
    "\n",
    "\n",
    "    \n",
    "}"
   ]
  },
  {
   "cell_type": "code",
   "execution_count": 1,
   "id": "98bb6b08",
   "metadata": {},
   "outputs": [
    {
     "ename": "NameError",
     "evalue": "name '_4' is not defined",
     "output_type": "error",
     "traceback": [
      "\u001b[1;31m---------------------------------------------------------------------------\u001b[0m",
      "\u001b[1;31mNameError\u001b[0m                                 Traceback (most recent call last)",
      "\u001b[1;32m<ipython-input-1-1b626dbe2ea1>\u001b[0m in \u001b[0;36m<module>\u001b[1;34m\u001b[0m\n\u001b[1;32m----> 1\u001b[1;33m \u001b[0md\u001b[0m \u001b[1;33m=\u001b[0m\u001b[1;33m{\u001b[0m\u001b[0m_4\u001b[0m\u001b[1;33m:\u001b[0m\u001b[1;33m[\u001b[0m\u001b[1;36m1\u001b[0m\u001b[1;33m,\u001b[0m\u001b[1;36m2\u001b[0m\u001b[1;33m,\u001b[0m\u001b[1;36m3\u001b[0m\u001b[1;33m]\u001b[0m\u001b[1;33m,\u001b[0m\u001b[1;34m\"key\"\u001b[0m\u001b[1;33m:\u001b[0m \u001b[1;34m\"kkkk\"\u001b[0m\u001b[1;33m}\u001b[0m\u001b[1;33m\u001b[0m\u001b[1;33m\u001b[0m\u001b[0m\n\u001b[0m",
      "\u001b[1;31mNameError\u001b[0m: name '_4' is not defined"
     ]
    }
   ],
   "source": [
    "d ={_4:[1,2,3],\"key\": \"kkkk\"}"
   ]
  },
  {
   "cell_type": "code",
   "execution_count": 2,
   "id": "5d1884f5",
   "metadata": {},
   "outputs": [
    {
     "name": "stdout",
     "output_type": "stream",
     "text": [
      "1\n",
      "2\n",
      "3\n",
      "4\n",
      "5\n"
     ]
    }
   ],
   "source": [
    "l=[1,2,3,4,5]\n",
    "for i in l:\n",
    "    print(i)"
   ]
  },
  {
   "cell_type": "code",
   "execution_count": 6,
   "id": "7e44a439",
   "metadata": {},
   "outputs": [
    {
     "name": "stdout",
     "output_type": "stream",
     "text": [
      "s\n",
      "u\n",
      "d\n",
      "h\n"
     ]
    }
   ],
   "source": [
    "s =\"sudh\"\n",
    "for i in s:\n",
    "    print(i )"
   ]
  },
  {
   "cell_type": "code",
   "execution_count": 7,
   "id": "5be4ae86",
   "metadata": {},
   "outputs": [],
   "source": [
    "t =(1,2,3,4,5,6)"
   ]
  },
  {
   "cell_type": "code",
   "execution_count": 8,
   "id": "0d2821b2",
   "metadata": {},
   "outputs": [
    {
     "name": "stdout",
     "output_type": "stream",
     "text": [
      "1\n",
      "2\n",
      "3\n",
      "4\n",
      "5\n",
      "6\n"
     ]
    }
   ],
   "source": [
    "for i in t:\n",
    "    print(i)"
   ]
  },
  {
   "cell_type": "code",
   "execution_count": 9,
   "id": "81342074",
   "metadata": {},
   "outputs": [],
   "source": [
    "l=[1,4,5.6,4.7j,\"sudh\"]"
   ]
  },
  {
   "cell_type": "code",
   "execution_count": 10,
   "id": "43020046",
   "metadata": {},
   "outputs": [
    {
     "name": "stdout",
     "output_type": "stream",
     "text": [
      "<class 'int'>\n",
      "<class 'int'>\n",
      "<class 'float'>\n",
      "<class 'complex'>\n",
      "<class 'str'>\n"
     ]
    }
   ],
   "source": [
    "for i in l:\n",
    "    print(type(i))"
   ]
  },
  {
   "cell_type": "code",
   "execution_count": 14,
   "id": "32caa73b",
   "metadata": {},
   "outputs": [
    {
     "name": "stdout",
     "output_type": "stream",
     "text": [
      "3\n",
      "4\n",
      "5\n",
      "6\n",
      "[3, 4, 5, 6]\n"
     ]
    }
   ],
   "source": [
    "l=[1,2,3,4]\n",
    "l1=[]\n",
    "for i in l:\n",
    "    print(i+2)\n",
    "    l1.append(i+2)\n",
    "print(l1)\n",
    "    "
   ]
  },
  {
   "cell_type": "code",
   "execution_count": 16,
   "id": "386d9ded",
   "metadata": {},
   "outputs": [
    {
     "ename": "TypeError",
     "evalue": "'int' object is not iterable",
     "output_type": "error",
     "traceback": [
      "\u001b[1;31m---------------------------------------------------------------------------\u001b[0m",
      "\u001b[1;31mTypeError\u001b[0m                                 Traceback (most recent call last)",
      "\u001b[1;32m<ipython-input-16-ef66d0a92b17>\u001b[0m in \u001b[0;36m<module>\u001b[1;34m\u001b[0m\n\u001b[0;32m      4\u001b[0m         \u001b[0mprint\u001b[0m\u001b[1;33m(\u001b[0m\u001b[0mi\u001b[0m\u001b[1;33m)\u001b[0m\u001b[1;33m\u001b[0m\u001b[1;33m\u001b[0m\u001b[0m\n\u001b[0;32m      5\u001b[0m     \u001b[1;32melif\u001b[0m \u001b[0mtype\u001b[0m\u001b[1;33m(\u001b[0m\u001b[0mi\u001b[0m\u001b[1;33m)\u001b[0m \u001b[1;33m==\u001b[0m \u001b[0mint\u001b[0m\u001b[1;33m:\u001b[0m\u001b[1;33m\u001b[0m\u001b[1;33m\u001b[0m\u001b[0m\n\u001b[1;32m----> 6\u001b[1;33m         \u001b[1;32mfor\u001b[0m \u001b[0mj\u001b[0m \u001b[1;32min\u001b[0m \u001b[0mi\u001b[0m\u001b[1;33m:\u001b[0m\u001b[1;33m\u001b[0m\u001b[1;33m\u001b[0m\u001b[0m\n\u001b[0m\u001b[0;32m      7\u001b[0m             \u001b[0mprint\u001b[0m\u001b[1;33m(\u001b[0m\u001b[0mj\u001b[0m\u001b[1;33m)\u001b[0m\u001b[1;33m\u001b[0m\u001b[1;33m\u001b[0m\u001b[0m\n",
      "\u001b[1;31mTypeError\u001b[0m: 'int' object is not iterable"
     ]
    }
   ],
   "source": [
    "l=[1,2,3,\"sudh\",[3,6,5]]\n",
    "for i in l:\n",
    "    if type(i) ==list:\n",
    "        print(i)\n",
    "    elif type(i) == int:\n",
    "        for j in i:\n",
    "            print(j)"
   ]
  },
  {
   "cell_type": "code",
   "execution_count": 21,
   "id": "cda87fbf",
   "metadata": {},
   "outputs": [
    {
     "name": "stdout",
     "output_type": "stream",
     "text": [
      "1\n",
      "2\n",
      "3\n",
      "fnf\n"
     ]
    }
   ],
   "source": [
    "l=[1,2,3,\"sudh\",[3,6,5,\"fnf\"]]\n",
    "for i in l:\n",
    "    if type(i) ==int:\n",
    "        print(i)\n",
    "    elif type(i) ==list:\n",
    "        for j in i:\n",
    "            if type(j) ==str:\n",
    "                print(j)"
   ]
  },
  {
   "cell_type": "code",
   "execution_count": 22,
   "id": "c68ece06",
   "metadata": {},
   "outputs": [],
   "source": [
    "l=[2,33,45,12,\"sudh\",7+5j, [33,4,2,42,\"fsds\"]]"
   ]
  },
  {
   "cell_type": "code",
   "execution_count": 44,
   "id": "25a4ead1",
   "metadata": {},
   "outputs": [
    {
     "name": "stdout",
     "output_type": "stream",
     "text": [
      "index 0 for an element 2\n",
      "index 1 for an element 33\n",
      "index 2 for an element 45\n",
      "index 3 for an element 12\n",
      "index 4 for an element sudh\n",
      "index 5 for an element (7+5j)\n",
      "index 6 for an element [33, 4, 2, 42, 'fsds']\n",
      "['s', 'u', 'd', 'h']\n",
      "[4, 1089, 2025, 144]\n"
     ]
    }
   ],
   "source": [
    "## find index of all element\n",
    "for i in range(len(l)):\n",
    "    print(\"index\" , i, \"for an element\",l[i])\n",
    "## extract all the char is element is string \n",
    "l1=[]\n",
    "for i in l:\n",
    "    if type(i) == str:\n",
    "        l1.extend(i)\n",
    "print(l1)\n",
    "## return list after doing sq of each int element\n",
    "l2=[]\n",
    "for i in l:\n",
    "    if type(i)==int:\n",
    "        \n",
    "        l2.append(i**2)\n",
    "print(l2)\n",
    "\n",
    "    "
   ]
  },
  {
   "cell_type": "code",
   "execution_count": 28,
   "id": "3bd0d048",
   "metadata": {},
   "outputs": [
    {
     "name": "stdout",
     "output_type": "stream",
     "text": [
      "['sudh']\n"
     ]
    }
   ],
   "source": [
    "l1=[]\n",
    "for i in l:\n",
    "    if type(i) == str:\n",
    "        l1.append(i)\n",
    "print(l1)\n",
    "        "
   ]
  },
  {
   "cell_type": "code",
   "execution_count": 1,
   "id": "5365f465",
   "metadata": {},
   "outputs": [
    {
     "data": {
      "text/plain": [
       "26"
      ]
     },
     "execution_count": 1,
     "metadata": {},
     "output_type": "execute_result"
    }
   ],
   "source": [
    "s = \"this is basic python class\"\n",
    "len(s)"
   ]
  },
  {
   "cell_type": "code",
   "execution_count": 3,
   "id": "62e19790",
   "metadata": {},
   "outputs": [
    {
     "name": "stdout",
     "output_type": "stream",
     "text": [
      "26\n"
     ]
    }
   ],
   "source": [
    "count = 0\n",
    "for i in s:\n",
    "    #count = count+1\n",
    "    count += 1\n",
    "print(count)"
   ]
  },
  {
   "cell_type": "code",
   "execution_count": 4,
   "id": "78e45c81",
   "metadata": {},
   "outputs": [
    {
     "data": {
      "text/plain": [
       "'ssalc nohtyp cisab si siht'"
      ]
     },
     "execution_count": 4,
     "metadata": {},
     "output_type": "execute_result"
    }
   ],
   "source": [
    "s[::-1]"
   ]
  },
  {
   "cell_type": "code",
   "execution_count": 14,
   "id": "5ecaef7c",
   "metadata": {},
   "outputs": [
    {
     "name": "stdout",
     "output_type": "stream",
     "text": [
      "ssalc nohtyp cisab si siht"
     ]
    }
   ],
   "source": [
    "for i in range(len(s)-1, -1,-1):\n",
    "    print(s[i], end =\"\")\n",
    "    "
   ]
  },
  {
   "cell_type": "code",
   "execution_count": 12,
   "id": "7110962c",
   "metadata": {},
   "outputs": [
    {
     "name": "stdout",
     "output_type": "stream",
     "text": [
      "ssalc nohtyp cisab si siht"
     ]
    }
   ],
   "source": [
    "i =len(s)-1\n",
    "while i>=0:\n",
    "    print(s[i],end =\"\")\n",
    "    i= i-1"
   ]
  },
  {
   "cell_type": "code",
   "execution_count": 16,
   "id": "da8b09f0",
   "metadata": {},
   "outputs": [],
   "source": [
    "s=\"ineuron\"\n",
    "v=\"AaEeOoUuIi\""
   ]
  },
  {
   "cell_type": "code",
   "execution_count": 18,
   "id": "28135fd0",
   "metadata": {},
   "outputs": [
    {
     "name": "stdout",
     "output_type": "stream",
     "text": [
      "vowel:  i\n",
      "not vowel : n\n",
      "vowel:  e\n",
      "vowel:  u\n",
      "not vowel : r\n",
      "vowel:  o\n",
      "not vowel : n\n"
     ]
    }
   ],
   "source": [
    "for i in s:\n",
    "    if i in v:\n",
    "        print(\"vowel: \", i)\n",
    "    else:\n",
    "        print(\"not vowel :\" , i)"
   ]
  },
  {
   "cell_type": "code",
   "execution_count": 2,
   "id": "87c4d20d",
   "metadata": {},
   "outputs": [
    {
     "data": {
      "text/plain": [
       "True"
      ]
     },
     "execution_count": 2,
     "metadata": {},
     "output_type": "execute_result"
    }
   ],
   "source": [
    "'R' in \"Rajneesh\""
   ]
  },
  {
   "cell_type": "code",
   "execution_count": 18,
   "id": "003530cb",
   "metadata": {},
   "outputs": [
    {
     "name": "stdout",
     "output_type": "stream",
     "text": [
      "malayalam\n",
      "pallendrome\n"
     ]
    }
   ],
   "source": [
    "# check string is pallendrome or name\n",
    "s=input()\n",
    "k = s\n",
    "if s[::-1] == k:\n",
    "    print(\"pallendrome\")\n",
    "else:\n",
    "    print(\"nogt a pallendrome\")\n"
   ]
  },
  {
   "cell_type": "code",
   "execution_count": 17,
   "id": "432f2ed8",
   "metadata": {},
   "outputs": [
    {
     "name": "stdout",
     "output_type": "stream",
     "text": [
      "eye\n",
      "eye\n",
      "p\n"
     ]
    }
   ],
   "source": [
    "s=input()\n",
    "st=\"\"\n",
    "st2=s\n",
    "for i in s:\n",
    "    st=i+st\n",
    "print(st)\n",
    "if st ==st2:\n",
    "    print(\"p\")\n",
    "else:\n",
    "    print(\"not p\")"
   ]
  },
  {
   "cell_type": "code",
   "execution_count": 19,
   "id": "bff47144",
   "metadata": {},
   "outputs": [],
   "source": [
    "d ={\"india\" : \"IN\",\n",
    "    \"canada\": \"CA\",\n",
    "    \"china\" : \"CH\",\n",
    "    \"United State\" :\"USA\"\n",
    "    \n",
    "}"
   ]
  },
  {
   "cell_type": "code",
   "execution_count": 25,
   "id": "4599f4eb",
   "metadata": {},
   "outputs": [
    {
     "data": {
      "text/plain": [
       "True"
      ]
     },
     "execution_count": 25,
     "metadata": {},
     "output_type": "execute_result"
    }
   ],
   "source": [
    "\"india\" in  d"
   ]
  },
  {
   "cell_type": "code",
   "execution_count": 26,
   "id": "8e0a6c5b",
   "metadata": {},
   "outputs": [
    {
     "data": {
      "text/plain": [
       "dict_items([('india', 'IN'), ('canada', 'CA'), ('china', 'CH'), ('United State', 'USA')])"
      ]
     },
     "execution_count": 26,
     "metadata": {},
     "output_type": "execute_result"
    }
   ],
   "source": [
    "d.items()"
   ]
  },
  {
   "cell_type": "code",
   "execution_count": 27,
   "id": "dfc01d5e",
   "metadata": {},
   "outputs": [
    {
     "data": {
      "text/plain": [
       "dict_keys(['india', 'canada', 'china', 'United State'])"
      ]
     },
     "execution_count": 27,
     "metadata": {},
     "output_type": "execute_result"
    }
   ],
   "source": [
    "d.keys()"
   ]
  },
  {
   "cell_type": "code",
   "execution_count": 30,
   "id": "4398b1ce",
   "metadata": {},
   "outputs": [
    {
     "data": {
      "text/plain": [
       "dict_values(['IN', 'CA', 'CH', 'USA'])"
      ]
     },
     "execution_count": 30,
     "metadata": {},
     "output_type": "execute_result"
    }
   ],
   "source": [
    "d.values()"
   ]
  },
  {
   "cell_type": "code",
   "execution_count": 38,
   "id": "5dd279af",
   "metadata": {},
   "outputs": [
    {
     "name": "stdout",
     "output_type": "stream",
     "text": [
      "['canada', 'United State']\n",
      "['india', 'china']\n"
     ]
    }
   ],
   "source": [
    "## find all the keys which is greater than 5 n put in a list and also lesse in another ist\n",
    "l1=[]\n",
    "l2=[]\n",
    "for i in d:\n",
    "    if len(i) >5:\n",
    "        l1.append(i)\n",
    "    else:\n",
    "        l2.append(i)\n",
    "    \n",
    "print(l1)\n",
    "print(l2)\n"
   ]
  },
  {
   "cell_type": "code",
   "execution_count": 2,
   "id": "c32a60c2",
   "metadata": {},
   "outputs": [],
   "source": [
    "## find the max value in ineuron and course \n",
    "d_1= {\"ineuron\" :{\n",
    "                    \"a\": 14, \"b\":10,\"c\": 4   \n",
    "                  },\n",
    "       \n",
    "         \"course\":{\n",
    "                   \"d\":45, \"e\":34,\"f\":1\n",
    "                  }    \n",
    "}"
   ]
  },
  {
   "cell_type": "code",
   "execution_count": 8,
   "id": "b89d4aa5",
   "metadata": {},
   "outputs": [
    {
     "name": "stdout",
     "output_type": "stream",
     "text": [
      "{'a': 14, 'b': 10, 'c': 4}\n",
      "14\n",
      "{'d': 45, 'e': 34, 'f': 1}\n",
      "45\n"
     ]
    }
   ],
   "source": [
    "l=[]\n",
    "for i in d_1.values():\n",
    "    print(i)\n",
    "    for j in i.values():\n",
    "        l.append(j)\n",
    "    print(max(l))\n",
    "        "
   ]
  },
  {
   "cell_type": "code",
   "execution_count": 10,
   "id": "2ff05071",
   "metadata": {},
   "outputs": [
    {
     "name": "stdout",
     "output_type": "stream",
     "text": [
      "14\n",
      "45\n"
     ]
    }
   ],
   "source": [
    "## OR\n",
    "for i in d_1.values():\n",
    "    print(max(i.values()))\n",
    "  \n",
    "        "
   ]
  },
  {
   "cell_type": "code",
   "execution_count": 11,
   "id": "c9bb54d0",
   "metadata": {},
   "outputs": [
    {
     "name": "stdout",
     "output_type": "stream",
     "text": [
      "14\n",
      "45\n"
     ]
    }
   ],
   "source": [
    "## OR\n",
    "for i in d_1.keys():\n",
    "    print(max(d_1[i].values()))"
   ]
  },
  {
   "cell_type": "code",
   "execution_count": 20,
   "id": "618bdb49",
   "metadata": {},
   "outputs": [],
   "source": [
    "## find the max value from this dict in list\n",
    "d_2 = {\"ineuron\" :{\"a\": 14, \"b\":10,\"c\": 4 },\"course\":{\"d\":45, \"e\":34,\"f\":1 }, \"g\":34 ,\"h\":[35,55,66],\"i\":(4,665,3),\"k\":\"Raj\"}"
   ]
  },
  {
   "cell_type": "code",
   "execution_count": 21,
   "id": "0fcd5e90",
   "metadata": {},
   "outputs": [
    {
     "name": "stdout",
     "output_type": "stream",
     "text": [
      "665\n"
     ]
    }
   ],
   "source": [
    "## Not generic solutions\n",
    "l=[]\n",
    "for i in d_2.values():\n",
    "    if type(i) == dict:\n",
    "        l.append(max(i.values()))\n",
    "    elif type(i) == list:\n",
    "        l.append(max(i))\n",
    "    elif type(i) == tuple:\n",
    "        l.append(max(i))\n",
    "    elif type(i) == str:\n",
    "        pass\n",
    "    else:\n",
    "        l.append(i)\n",
    "        \n",
    "print(max(l))"
   ]
  },
  {
   "cell_type": "code",
   "execution_count": null,
   "id": "9c1f06fd",
   "metadata": {},
   "outputs": [],
   "source": [
    "## iterator iterable"
   ]
  },
  {
   "cell_type": "code",
   "execution_count": 26,
   "id": "cf7c1622",
   "metadata": {},
   "outputs": [],
   "source": [
    "s= \"sudh\""
   ]
  },
  {
   "cell_type": "code",
   "execution_count": 27,
   "id": "6f9c9950",
   "metadata": {},
   "outputs": [
    {
     "ename": "TypeError",
     "evalue": "'str' object is not an iterator",
     "output_type": "error",
     "traceback": [
      "\u001b[1;31m---------------------------------------------------------------------------\u001b[0m",
      "\u001b[1;31mTypeError\u001b[0m                                 Traceback (most recent call last)",
      "\u001b[1;32m<ipython-input-27-61c30b5fe1d5>\u001b[0m in \u001b[0;36m<module>\u001b[1;34m\u001b[0m\n\u001b[1;32m----> 1\u001b[1;33m \u001b[0mnext\u001b[0m\u001b[1;33m(\u001b[0m\u001b[0ms\u001b[0m\u001b[1;33m)\u001b[0m\u001b[1;33m\u001b[0m\u001b[1;33m\u001b[0m\u001b[0m\n\u001b[0m",
      "\u001b[1;31mTypeError\u001b[0m: 'str' object is not an iterator"
     ]
    }
   ],
   "source": [
    "next(s)"
   ]
  },
  {
   "cell_type": "code",
   "execution_count": 30,
   "id": "9c4680a0",
   "metadata": {},
   "outputs": [],
   "source": [
    "s =iter(s)"
   ]
  },
  {
   "cell_type": "code",
   "execution_count": 31,
   "id": "0d1cbb2a",
   "metadata": {},
   "outputs": [
    {
     "data": {
      "text/plain": [
       "'s'"
      ]
     },
     "execution_count": 31,
     "metadata": {},
     "output_type": "execute_result"
    }
   ],
   "source": [
    "next(s)"
   ]
  },
  {
   "cell_type": "code",
   "execution_count": 32,
   "id": "5185e655",
   "metadata": {},
   "outputs": [
    {
     "data": {
      "text/plain": [
       "'u'"
      ]
     },
     "execution_count": 32,
     "metadata": {},
     "output_type": "execute_result"
    }
   ],
   "source": [
    "next(s)"
   ]
  },
  {
   "cell_type": "code",
   "execution_count": 33,
   "id": "b51dc8b6",
   "metadata": {},
   "outputs": [],
   "source": [
    "a =56"
   ]
  },
  {
   "cell_type": "code",
   "execution_count": 34,
   "id": "8026a732",
   "metadata": {},
   "outputs": [
    {
     "ename": "TypeError",
     "evalue": "'int' object is not an iterator",
     "output_type": "error",
     "traceback": [
      "\u001b[1;31m---------------------------------------------------------------------------\u001b[0m",
      "\u001b[1;31mTypeError\u001b[0m                                 Traceback (most recent call last)",
      "\u001b[1;32m<ipython-input-34-15841f3f11d4>\u001b[0m in \u001b[0;36m<module>\u001b[1;34m\u001b[0m\n\u001b[1;32m----> 1\u001b[1;33m \u001b[0mnext\u001b[0m\u001b[1;33m(\u001b[0m\u001b[0ma\u001b[0m\u001b[1;33m)\u001b[0m\u001b[1;33m\u001b[0m\u001b[1;33m\u001b[0m\u001b[0m\n\u001b[0m",
      "\u001b[1;31mTypeError\u001b[0m: 'int' object is not an iterator"
     ]
    }
   ],
   "source": [
    "next(a)"
   ]
  },
  {
   "cell_type": "code",
   "execution_count": 35,
   "id": "7bb57e76",
   "metadata": {},
   "outputs": [
    {
     "ename": "TypeError",
     "evalue": "'int' object is not iterable",
     "output_type": "error",
     "traceback": [
      "\u001b[1;31m---------------------------------------------------------------------------\u001b[0m",
      "\u001b[1;31mTypeError\u001b[0m                                 Traceback (most recent call last)",
      "\u001b[1;32m<ipython-input-35-649c79fd4ee7>\u001b[0m in \u001b[0;36m<module>\u001b[1;34m\u001b[0m\n\u001b[1;32m----> 1\u001b[1;33m \u001b[0ma\u001b[0m \u001b[1;33m=\u001b[0m\u001b[0miter\u001b[0m\u001b[1;33m(\u001b[0m\u001b[0ma\u001b[0m\u001b[1;33m)\u001b[0m\u001b[1;33m\u001b[0m\u001b[1;33m\u001b[0m\u001b[0m\n\u001b[0m",
      "\u001b[1;31mTypeError\u001b[0m: 'int' object is not iterable"
     ]
    }
   ],
   "source": [
    "a =iter(a)"
   ]
  },
  {
   "cell_type": "code",
   "execution_count": 36,
   "id": "65bea6b6",
   "metadata": {},
   "outputs": [],
   "source": [
    "t =(4,4,5,3)"
   ]
  },
  {
   "cell_type": "code",
   "execution_count": 37,
   "id": "d183a317",
   "metadata": {},
   "outputs": [
    {
     "ename": "TypeError",
     "evalue": "'tuple' object is not an iterator",
     "output_type": "error",
     "traceback": [
      "\u001b[1;31m---------------------------------------------------------------------------\u001b[0m",
      "\u001b[1;31mTypeError\u001b[0m                                 Traceback (most recent call last)",
      "\u001b[1;32m<ipython-input-37-f843efe259be>\u001b[0m in \u001b[0;36m<module>\u001b[1;34m\u001b[0m\n\u001b[1;32m----> 1\u001b[1;33m \u001b[0mnext\u001b[0m\u001b[1;33m(\u001b[0m\u001b[0mt\u001b[0m\u001b[1;33m)\u001b[0m\u001b[1;33m\u001b[0m\u001b[1;33m\u001b[0m\u001b[0m\n\u001b[0m",
      "\u001b[1;31mTypeError\u001b[0m: 'tuple' object is not an iterator"
     ]
    }
   ],
   "source": [
    "next(t)"
   ]
  },
  {
   "cell_type": "code",
   "execution_count": 38,
   "id": "478ae386",
   "metadata": {},
   "outputs": [],
   "source": [
    "ta =iter(t)"
   ]
  },
  {
   "cell_type": "code",
   "execution_count": 39,
   "id": "89771164",
   "metadata": {},
   "outputs": [
    {
     "data": {
      "text/plain": [
       "4"
      ]
     },
     "execution_count": 39,
     "metadata": {},
     "output_type": "execute_result"
    }
   ],
   "source": [
    "next(ta)"
   ]
  },
  {
   "cell_type": "code",
   "execution_count": 41,
   "id": "3ac24f72",
   "metadata": {},
   "outputs": [],
   "source": [
    "r =range(6)"
   ]
  },
  {
   "cell_type": "code",
   "execution_count": 43,
   "id": "62fb693f",
   "metadata": {},
   "outputs": [
    {
     "ename": "TypeError",
     "evalue": "'range' object is not an iterator",
     "output_type": "error",
     "traceback": [
      "\u001b[1;31m---------------------------------------------------------------------------\u001b[0m",
      "\u001b[1;31mTypeError\u001b[0m                                 Traceback (most recent call last)",
      "\u001b[1;32m<ipython-input-43-8ebe59a56b1d>\u001b[0m in \u001b[0;36m<module>\u001b[1;34m\u001b[0m\n\u001b[1;32m----> 1\u001b[1;33m \u001b[0mnext\u001b[0m\u001b[1;33m(\u001b[0m\u001b[0mr\u001b[0m\u001b[1;33m)\u001b[0m\u001b[1;33m\u001b[0m\u001b[1;33m\u001b[0m\u001b[0m\n\u001b[0m",
      "\u001b[1;31mTypeError\u001b[0m: 'range' object is not an iterator"
     ]
    }
   ],
   "source": [
    "next(r)"
   ]
  },
  {
   "cell_type": "code",
   "execution_count": 44,
   "id": "5694e09f",
   "metadata": {},
   "outputs": [],
   "source": [
    "r =iter(r)"
   ]
  },
  {
   "cell_type": "code",
   "execution_count": 45,
   "id": "ddaa841a",
   "metadata": {},
   "outputs": [
    {
     "data": {
      "text/plain": [
       "0"
      ]
     },
     "execution_count": 45,
     "metadata": {},
     "output_type": "execute_result"
    }
   ],
   "source": [
    "next(r)"
   ]
  },
  {
   "cell_type": "code",
   "execution_count": 46,
   "id": "0a36b66b",
   "metadata": {},
   "outputs": [],
   "source": [
    "## Generator"
   ]
  },
  {
   "cell_type": "code",
   "execution_count": 49,
   "id": "5c00cad6",
   "metadata": {},
   "outputs": [
    {
     "data": {
      "text/plain": [
       "[0, 1, 2, 3]"
      ]
     },
     "execution_count": 49,
     "metadata": {},
     "output_type": "execute_result"
    }
   ],
   "source": [
    "list(range(4))"
   ]
  },
  {
   "cell_type": "code",
   "execution_count": 58,
   "id": "eab436d8",
   "metadata": {},
   "outputs": [],
   "source": [
    "def gencube(n):\n",
    "    l=[]\n",
    "    for i in range(n):\n",
    "        l.append(i**3)\n",
    "    return l"
   ]
  },
  {
   "cell_type": "code",
   "execution_count": 64,
   "id": "2221be92",
   "metadata": {},
   "outputs": [
    {
     "data": {
      "text/plain": [
       "[0, 1, 8, 27]"
      ]
     },
     "execution_count": 64,
     "metadata": {},
     "output_type": "execute_result"
    }
   ],
   "source": [
    "gencube(4)"
   ]
  },
  {
   "cell_type": "code",
   "execution_count": 65,
   "id": "176bd38a",
   "metadata": {},
   "outputs": [
    {
     "data": {
      "text/plain": [
       "range(0, 100000000000000000000)"
      ]
     },
     "execution_count": 65,
     "metadata": {},
     "output_type": "execute_result"
    }
   ],
   "source": [
    "range(100000000000000000000)"
   ]
  },
  {
   "cell_type": "code",
   "execution_count": null,
   "id": "f4e0aa0d",
   "metadata": {},
   "outputs": [],
   "source": [
    "for i in range(1000000000):\n",
    "    print(i)\n",
    "    \n",
    "    "
   ]
  },
  {
   "cell_type": "code",
   "execution_count": 66,
   "id": "32b1adad",
   "metadata": {},
   "outputs": [],
   "source": [
    "def gencube(n):\n",
    "    \n",
    "    for i in range(n):\n",
    "         yield i**3\n",
    "    "
   ]
  },
  {
   "cell_type": "code",
   "execution_count": 68,
   "id": "c80f81aa",
   "metadata": {},
   "outputs": [
    {
     "data": {
      "text/plain": [
       "[0, 1, 8, 27]"
      ]
     },
     "execution_count": 68,
     "metadata": {},
     "output_type": "execute_result"
    }
   ],
   "source": [
    "list(gencube(4))"
   ]
  },
  {
   "cell_type": "code",
   "execution_count": 69,
   "id": "2ba8d75f",
   "metadata": {},
   "outputs": [
    {
     "name": "stdout",
     "output_type": "stream",
     "text": [
      "0\n",
      "1\n",
      "8\n",
      "27\n"
     ]
    }
   ],
   "source": [
    "for i in gencube(4):\n",
    "    print(i)"
   ]
  },
  {
   "cell_type": "code",
   "execution_count": 70,
   "id": "4365aab3",
   "metadata": {},
   "outputs": [
    {
     "name": "stdout",
     "output_type": "stream",
     "text": [
      " Volume in drive C is Windows\n",
      " Volume Serial Number is FC91-C721\n",
      "\n",
      " Directory of C:\\Users\\RAJNEESH BHARTI\\Desktop\\kkk\n",
      "\n",
      "23-03-2022  10:54    <DIR>          .\n",
      "23-03-2022  10:54    <DIR>          ..\n",
      "23-02-2022  16:43    <DIR>          .ipynb_checkpoints\n",
      "21-02-2022  22:25             6,977 Basic python part 2.ipynb\n",
      "21-02-2022  20:16            10,754 Basic python.ipynb\n",
      "02-03-2022  17:27             6,256 Codestack company.ipynb\n",
      "11-02-2022  14:51            69,090 Python basic (3).ipynb\n",
      "22-02-2022  09:08            10,161 Python Basic 3.ipynb\n",
      "22-02-2022  11:22            12,693 Python Basics 4 Number Method.ipynb\n",
      "22-02-2022  12:25            14,335 Python Basics 5 List Dict Set etc.ipynb\n",
      "23-02-2022  08:19                67 Stud.dat\n",
      "23-02-2022  10:02                12 test.txt\n",
      "20-03-2022  16:01            54,040 Untitled.ipynb\n",
      "23-03-2022  10:54            38,893 Untitled1.ipynb\n",
      "              11 File(s)        223,278 bytes\n",
      "               3 Dir(s)  248,008,941,568 bytes free\n"
     ]
    }
   ],
   "source": [
    "ls"
   ]
  },
  {
   "cell_type": "code",
   "execution_count": 2,
   "id": "3e2c75ee",
   "metadata": {},
   "outputs": [],
   "source": [
    "## file handling\n",
    "\n",
    "f= open(\"test1.txt\", \"w\")"
   ]
  },
  {
   "cell_type": "code",
   "execution_count": 3,
   "id": "ac40b783",
   "metadata": {},
   "outputs": [
    {
     "data": {
      "text/plain": [
       "19"
      ]
     },
     "execution_count": 3,
     "metadata": {},
     "output_type": "execute_result"
    }
   ],
   "source": [
    "f.write(\"this is good xxxxxx\")"
   ]
  },
  {
   "cell_type": "code",
   "execution_count": 4,
   "id": "afd2ffca",
   "metadata": {},
   "outputs": [],
   "source": [
    "f.close()"
   ]
  },
  {
   "cell_type": "code",
   "execution_count": 5,
   "id": "52fe0280",
   "metadata": {},
   "outputs": [],
   "source": [
    "f = open(\"test1.txt\",\"r\")"
   ]
  },
  {
   "cell_type": "code",
   "execution_count": 6,
   "id": "f1f75757",
   "metadata": {},
   "outputs": [
    {
     "data": {
      "text/plain": [
       "'this is good xxxxxx'"
      ]
     },
     "execution_count": 6,
     "metadata": {},
     "output_type": "execute_result"
    }
   ],
   "source": [
    "f.read()"
   ]
  },
  {
   "cell_type": "code",
   "execution_count": 7,
   "id": "4bf7dcce",
   "metadata": {},
   "outputs": [
    {
     "ename": "UnsupportedOperation",
     "evalue": "not writable",
     "output_type": "error",
     "traceback": [
      "\u001b[1;31m---------------------------------------------------------------------------\u001b[0m",
      "\u001b[1;31mUnsupportedOperation\u001b[0m                      Traceback (most recent call last)",
      "\u001b[1;32m<ipython-input-7-f8f4a8f63f6c>\u001b[0m in \u001b[0;36m<module>\u001b[1;34m\u001b[0m\n\u001b[1;32m----> 1\u001b[1;33m \u001b[0mf\u001b[0m\u001b[1;33m.\u001b[0m\u001b[0mwrite\u001b[0m\u001b[1;33m(\u001b[0m\u001b[1;34m\"davfsvfsCA\"\u001b[0m\u001b[1;33m)\u001b[0m\u001b[1;33m\u001b[0m\u001b[1;33m\u001b[0m\u001b[0m\n\u001b[0m",
      "\u001b[1;31mUnsupportedOperation\u001b[0m: not writable"
     ]
    }
   ],
   "source": [
    "f.write(\"davfsvfsCA\")"
   ]
  },
  {
   "cell_type": "code",
   "execution_count": 8,
   "id": "7a4a0d8f",
   "metadata": {},
   "outputs": [
    {
     "data": {
      "text/plain": [
       "''"
      ]
     },
     "execution_count": 8,
     "metadata": {},
     "output_type": "execute_result"
    }
   ],
   "source": [
    "f.read()"
   ]
  },
  {
   "cell_type": "code",
   "execution_count": 12,
   "id": "aa6180c6",
   "metadata": {},
   "outputs": [
    {
     "data": {
      "text/plain": [
       "5"
      ]
     },
     "execution_count": 12,
     "metadata": {},
     "output_type": "execute_result"
    }
   ],
   "source": [
    "f.seek(5) ## reset cursor to 5 th position"
   ]
  },
  {
   "cell_type": "code",
   "execution_count": 13,
   "id": "14622bd2",
   "metadata": {},
   "outputs": [
    {
     "data": {
      "text/plain": [
       "'is good xxxxxx'"
      ]
     },
     "execution_count": 13,
     "metadata": {},
     "output_type": "execute_result"
    }
   ],
   "source": [
    "f.read()"
   ]
  },
  {
   "cell_type": "code",
   "execution_count": 14,
   "id": "ece99fd6",
   "metadata": {},
   "outputs": [],
   "source": [
    "f.close()"
   ]
  },
  {
   "cell_type": "code",
   "execution_count": 21,
   "id": "b6e4ebb5",
   "metadata": {},
   "outputs": [],
   "source": [
    "f =open('test1.txt','r+')"
   ]
  },
  {
   "cell_type": "code",
   "execution_count": 22,
   "id": "eaba06c8",
   "metadata": {},
   "outputs": [
    {
     "data": {
      "text/plain": [
       "'this is good xxxxxx joihfsocubsj cd \\n'"
      ]
     },
     "execution_count": 22,
     "metadata": {},
     "output_type": "execute_result"
    }
   ],
   "source": [
    "f.readline()"
   ]
  },
  {
   "cell_type": "code",
   "execution_count": 23,
   "id": "7b347788",
   "metadata": {},
   "outputs": [
    {
     "data": {
      "text/plain": [
       "'jnajcnisdc\\n'"
      ]
     },
     "execution_count": 23,
     "metadata": {},
     "output_type": "execute_result"
    }
   ],
   "source": [
    "f.readline()"
   ]
  },
  {
   "cell_type": "code",
   "execution_count": 24,
   "id": "bcd6866a",
   "metadata": {},
   "outputs": [],
   "source": [
    "f.close()"
   ]
  },
  {
   "cell_type": "code",
   "execution_count": 25,
   "id": "0dabf364",
   "metadata": {},
   "outputs": [],
   "source": [
    "l=[1,2,3,4]\n",
    "l.append([3,4])"
   ]
  },
  {
   "cell_type": "code",
   "execution_count": 26,
   "id": "d67b0199",
   "metadata": {},
   "outputs": [
    {
     "data": {
      "text/plain": [
       "[1, 2, 3, 4, [3, 4]]"
      ]
     },
     "execution_count": 26,
     "metadata": {},
     "output_type": "execute_result"
    }
   ],
   "source": [
    "l"
   ]
  },
  {
   "cell_type": "code",
   "execution_count": 27,
   "id": "aa160c6b",
   "metadata": {},
   "outputs": [],
   "source": [
    "l.extend([55,66])"
   ]
  },
  {
   "cell_type": "code",
   "execution_count": 28,
   "id": "c43a1824",
   "metadata": {},
   "outputs": [
    {
     "data": {
      "text/plain": [
       "[1, 2, 3, 4, [3, 4], 55, 66]"
      ]
     },
     "execution_count": 28,
     "metadata": {},
     "output_type": "execute_result"
    }
   ],
   "source": [
    "l"
   ]
  },
  {
   "cell_type": "code",
   "execution_count": 3,
   "id": "378204ab",
   "metadata": {},
   "outputs": [
    {
     "name": "stdout",
     "output_type": "stream",
     "text": [
      "Ishika\n"
     ]
    }
   ],
   "source": [
    "class emp:\n",
    "    def __init__(self, name):\n",
    "        self.name= name\n",
    "        \n",
    "obj= emp('Ishika')\n",
    "    \n",
    "print(obj.name)\n",
    "        \n",
    "    "
   ]
  },
  {
   "cell_type": "code",
   "execution_count": 19,
   "id": "8406e22f",
   "metadata": {},
   "outputs": [
    {
     "name": "stdout",
     "output_type": "stream",
     "text": [
      "Enter a string of brackets: (()))(\n",
      "True\n"
     ]
    }
   ],
   "source": [
    "def isbalanced(s):\n",
    "    \n",
    "    c= 1\n",
    "    \n",
    "    ans=False\n",
    "    \n",
    "    for i in s:\n",
    "        \n",
    "        if i == \"(\":\n",
    "            c += 1\n",
    "                \n",
    "        elif i == \")\":\n",
    "                \n",
    "            c-= 1\n",
    "        if c < 0:\n",
    "            return c\n",
    "        if c==0:\n",
    "            return not c\n",
    "    #return c\n",
    "s=input(\"Enter a string of brackets: \") \n",
    "print(isbalanced(s))"
   ]
  },
  {
   "cell_type": "code",
   "execution_count": null,
   "id": "d5ccbc3a",
   "metadata": {},
   "outputs": [],
   "source": [
    "def isbalanced(s):\n",
    "    while(len(s)!=0):\n",
    "        s = s.replace('()', \") \n",
    "        s = s.replace('[]', ”)\n",
    "        s = s.replace('{}', ”)\n",
    "    if(len(s)== 0):\n",
    "        return True\n",
    "    else:\n",
    "        return False\n",
    "s=input(“Enter a string of brackets: “) \n",
    "print(“Given string is balanced :”,isbalanced(s))"
   ]
  },
  {
   "cell_type": "code",
   "execution_count": null,
   "id": "f068a25a",
   "metadata": {},
   "outputs": [],
   "source": [
    "# Python3 program to check for\n",
    "# balanced brackets.\n",
    "\n",
    "# function to check if\n",
    "# brackets are balanced\n",
    "\n",
    "\n",
    "def areBracketsBalanced(expr):\n",
    "stack = []\n",
    "\n",
    "# Traversing the Expression\n",
    "for char in expr:\n",
    "if char in [\"(\", \"{\", \"[\"]:\n",
    "\n",
    "# Push the element in the stack\n",
    "stack.append(char)\n",
    "else:\n",
    "\n",
    "# IF current character is not opening\n",
    "# bracket, then it must be closing.\n",
    "# So stack cannot be empty at this point.\n",
    "if not stack:\n",
    "    return False\n",
    "current_char = stack.pop()\n",
    "if current_char == '(':\n",
    "    if char != \")\":\n",
    "        return False\n",
    "if current_char == '{':\n",
    "    if char != \"}\":\n",
    "    return False\n",
    "if current_char == '[':\n",
    "if char != \"]\":\n",
    "    return False\n",
    "# Check Empty Stack\n",
    "if stack:\n",
    "    return False\n",
    "return True\n",
    "\n",
    "\n",
    "# Driver Code\n",
    "if __name__ == \"__main__\":\n",
    "    expr = \"{()}[]\"\n",
    "\n",
    "# Function call\n",
    "if areBracketsBalanced(expr):\n",
    "    print(\"Balanced\")\n",
    "else:\n",
    "    print(\"Not Balanced\")\n",
    "\n",
    "# This code is contributed by AnkitRai01 and improved\n",
    "# by Raju Pitta\n"
   ]
  },
  {
   "cell_type": "code",
   "execution_count": null,
   "id": "173e6be7",
   "metadata": {},
   "outputs": [],
   "source": []
  },
  {
   "cell_type": "code",
   "execution_count": 11,
   "id": "c9f9ace2",
   "metadata": {},
   "outputs": [
    {
     "name": "stdout",
     "output_type": "stream",
     "text": [
      "Is {[()]} valid ? : True\n",
      "Is {[()]}{]{}} valid ? : False\n"
     ]
    }
   ],
   "source": [
    "class Solution:\n",
    "    def isValid( self, sequence ):\n",
    "              \n",
    "        while sequence !=0:\n",
    "            \n",
    "            if '()' in sequence :\n",
    "                \n",
    "                sequence = sequence.replace ( '()' , '' )\n",
    "            elif '{}' in sequence :\n",
    "                \n",
    "                sequence = sequence.replace ( '{}' , '' )\n",
    "            elif '[]' in sequence :\n",
    "                \n",
    "                sequence = sequence.replace ( '[]' , '' )\n",
    "            else :\n",
    "                \n",
    "                return not sequence\n",
    "\n",
    "if __name__ == '__main__':\n",
    "    sequence = '{[()]}'\n",
    "    print(f'Is {sequence} valid ? : {Solution().isValid(sequence)}')\n",
    "    sequence1 = '{[()]}{]{}}'\n",
    "    print(f'Is {sequence1} valid ? : {Solution().isValid (sequence1)}')"
   ]
  },
  {
   "cell_type": "code",
   "execution_count": 5,
   "id": "786423c2",
   "metadata": {},
   "outputs": [],
   "source": [
    "def isbal(s):\n",
    "    st =[]\n",
    "    br={'(':')'}\n",
    "    for char in s:\n",
    "        if char in ['(',')']:\n",
    "            st.append(char)\n",
    "        else:\n",
    "            if stack:\n",
    "                top = st.pop()\n",
    "                if br[top] !=char:\n",
    "                    return -1\n",
    "            else:\n",
    "                return -1\n",
    "    return -1 if st else 1"
   ]
  },
  {
   "cell_type": "code",
   "execution_count": 6,
   "id": "40e3c54e",
   "metadata": {},
   "outputs": [
    {
     "data": {
      "text/plain": [
       "-1"
      ]
     },
     "execution_count": 6,
     "metadata": {},
     "output_type": "execute_result"
    }
   ],
   "source": [
    "isbal(s)"
   ]
  },
  {
   "cell_type": "code",
   "execution_count": 3,
   "id": "e3407bed",
   "metadata": {},
   "outputs": [
    {
     "name": "stdout",
     "output_type": "stream",
     "text": [
      "Please Enter your Own String : hi hi hi hi\n",
      "4\n"
     ]
    }
   ],
   "source": [
    "def Count_Total_Words(str1):\n",
    "    total = 1\n",
    "    for i in range(len(str1)):\n",
    "        if(str1[i] == ' '):\n",
    "            total = total + 1\n",
    "    return total\n",
    "\n",
    "\n",
    "string = input(\"Please Enter your Own String : \")\n",
    "leng = Count_Total_Words(string)\n",
    "print( leng)"
   ]
  },
  {
   "cell_type": "code",
   "execution_count": 5,
   "id": "1422b584",
   "metadata": {},
   "outputs": [
    {
     "name": "stdout",
     "output_type": "stream",
     "text": [
      "[1, 3, 2, 4, 5]\n"
     ]
    }
   ],
   "source": [
    "def Remove(arr):\n",
    "    final_list = []\n",
    "    for num in arr:\n",
    "        if num not in final_list:\n",
    "            final_list.append(num)\n",
    "    return final_list\n",
    "     \n",
    "# Driver Code\n",
    "duplicate = [1,1,3,2,1,4,5,4]\n",
    "print(Remove(duplicate))"
   ]
  },
  {
   "cell_type": "code",
   "execution_count": 3,
   "id": "de9653f3",
   "metadata": {},
   "outputs": [
    {
     "name": "stdout",
     "output_type": "stream",
     "text": [
      "4\n",
      "1 \n",
      "1 0 \n",
      "1 0 1 \n",
      "1 0 1 0 \n"
     ]
    }
   ],
   "source": [
    "rows = int(input())\n",
    "\n",
    "\n",
    "\n",
    "for i in range(1, rows + 1):\n",
    "    for j in range(1, i + 1):\n",
    "        if j % 2 == 0:\n",
    "            print(0, end = ' ') \n",
    "        else:\n",
    "            print(1, end = ' ') \n",
    "    print()"
   ]
  },
  {
   "cell_type": "code",
   "execution_count": 11,
   "id": "473a09ac",
   "metadata": {},
   "outputs": [
    {
     "name": "stdout",
     "output_type": "stream",
     "text": [
      "5\n",
      "8\n",
      "11\n",
      "14\n",
      "17\n",
      "20\n",
      "23\n",
      "26\n",
      "29\n",
      "32\n",
      "35\n",
      "38\n",
      "41\n",
      "44\n",
      "47\n",
      "50\n",
      "53\n"
     ]
    }
   ],
   "source": [
    "p=int(input())\n",
    "c =0\n",
    "n=1\n",
    "while c < p:\n",
    "    el= 3*n+5\n",
    "    if((el % 5)==0):\n",
    "        continue\n",
    "    else:\n",
    "        c= c+1\n",
    "        n= n+1\n",
    "        print(el)"
   ]
  },
  {
   "cell_type": "code",
   "execution_count": 4,
   "id": "e90ca90a",
   "metadata": {},
   "outputs": [
    {
     "name": "stdout",
     "output_type": "stream",
     "text": [
      "6\n",
      "0\n",
      "10\n",
      "010\n",
      "1010\n",
      "01010\n",
      "101010\n"
     ]
    }
   ],
   "source": [
    "def triangle(n):\n",
    "      \n",
    "    for row in range(0, n):\n",
    "     \n",
    "        for col in range(0, row + 1):\n",
    "         \n",
    "            if (((row + col) % 2) == 0) :\n",
    "                print(\"0\", end = \"\")\n",
    "            else:\n",
    "                print(\"1\", end = \"\")\n",
    "            print(\"\\t\", end = \"\")\n",
    "                 \n",
    "        print(\"\")\n",
    "\n",
    "n = int(input())\n",
    "triangle(n)"
   ]
  },
  {
   "cell_type": "code",
   "execution_count": null,
   "id": "4aa7d24f",
   "metadata": {},
   "outputs": [
    {
     "name": "stdout",
     "output_type": "stream",
     "text": [
      "5\n"
     ]
    }
   ],
   "source": [
    "p=int(input())\n",
    "c=0\n",
    "n=1\n",
    "while c < p+1:\n",
    "    el= 3*n+5\n",
    "    if((el % 5)==0):\n",
    "        continue\n",
    "        \n",
    "    else:\n",
    "        c= c+1\n",
    "        n= n+1\n",
    "        print(el)"
   ]
  },
  {
   "cell_type": "code",
   "execution_count": 3,
   "id": "990dcd46",
   "metadata": {},
   "outputs": [],
   "source": [
    "def minOperation(arr):\n",
    "    l1=list()\n",
    "    l2=list()\n",
    "    l1=arr\n",
    "    l2=arr\n",
    "    n=len(arr)\n",
    "    maxs=max(arr)+1\n",
    "    mins=min(arr)-1\n",
    "\n",
    "    lh=0\n",
    "    for i in range(1,n):\n",
    "        if i%2!=0 and l1[i]<=l1[i-1]:\n",
    "            lh+=1\n",
    "            l1[i]=maxs\n",
    "        elif i%2==0 and l1[i]>=l1[i-1]:\n",
    "            lh+=1\n",
    "            l1[i]=mins\n",
    "    hl=0\n",
    "    for i in range(1,n):\n",
    "        if i%2!=0 and l1[i]>=l1[i-1]:\n",
    "            hl+=1\n",
    "            l2[i]=maxs\n",
    "        elif i%2==0 and l1[i]<=l1[i-1]:\n",
    "            hl+=1\n",
    "            l2[i]=mins\n",
    "    return min(lh,hl)"
   ]
  },
  {
   "cell_type": "code",
   "execution_count": 5,
   "id": "3ae9d659",
   "metadata": {},
   "outputs": [
    {
     "data": {
      "text/plain": [
       "0"
      ]
     },
     "execution_count": 5,
     "metadata": {},
     "output_type": "execute_result"
    }
   ],
   "source": [
    "minOperation([4,13,2,3])"
   ]
  },
  {
   "cell_type": "code",
   "execution_count": 26,
   "id": "81157a3e",
   "metadata": {},
   "outputs": [],
   "source": [
    "#import re library\n",
    "import re\n",
    "def howMany(sentence):\n",
    "# initialize total with 0\n",
    "    total=0\n",
    "# convert string into list \n",
    "    slist=list(sentence.split())\n",
    "# iterate list one by one\n",
    "    for i in slist:\n",
    "#find all valid character in element\n",
    "        j=re.findall(\"[a-zA-Z*,*?*\\-!*.]\",i)\n",
    "        # compare length of element with new element\n",
    "        if len(i)==len(j):\n",
    "        #increment total by one\n",
    "            total+=1\n",
    "\n",
    "    return total"
   ]
  },
  {
   "cell_type": "code",
   "execution_count": 30,
   "id": "9203d5d5",
   "metadata": {},
   "outputs": [],
   "source": [
    "def solve(path,k):\n",
    "\n",
    "    if len(path)==1:\n",
    "        return path[0]\n",
    "\n",
    "    opt={}\n",
    "    for i in range(1,k+1):\n",
    "        opt[-i] = 0\n",
    "\n",
    "    opt[0] = path[0]\n",
    "\n",
    "    for i in range(1, len(path)):\n",
    "        opt[i] = max([path[i] + opt[i-x] for x in range(1,k+1)])\n",
    "\n",
    "    return opt[len(path)-1]"
   ]
  },
  {
   "cell_type": "code",
   "execution_count": 31,
   "id": "76a5c227",
   "metadata": {},
   "outputs": [
    {
     "data": {
      "text/plain": [
       "5"
      ]
     },
     "execution_count": 31,
     "metadata": {},
     "output_type": "execute_result"
    }
   ],
   "source": [
    "solve([10,-20,-5],3)"
   ]
  },
  {
   "cell_type": "code",
   "execution_count": 1,
   "id": "3c523694",
   "metadata": {},
   "outputs": [
    {
     "name": "stdout",
     "output_type": "stream",
     "text": [
      "The H.C.F. is 3\n"
     ]
    }
   ],
   "source": [
    "def compute_hcf(x, y):\n",
    "\n",
    "# choose the smaller number\n",
    "    if x > y:\n",
    "        smaller = y\n",
    "    else:\n",
    "        smaller = x\n",
    "    for i in range(1, smaller+1):\n",
    "        if((x % i == 0) and (y % i == 0)):\n",
    "            hcf = i \n",
    "    return hcf\n",
    "\n",
    "num1 = 3\n",
    "num2 = 3\n",
    "\n",
    "print(\"The H.C.F. is\", compute_hcf(num1, num2))"
   ]
  },
  {
   "cell_type": "code",
   "execution_count": null,
   "id": "c17d2746",
   "metadata": {},
   "outputs": [],
   "source": [
    "class Solution:\n",
    "    \n",
    "    def solve(self, nums):\n",
    "        def valid(r):\n",
    "            last_location = nums[0] + r\n",
    "            count = 1\n",
    "            for i in range(len(nums)):\n",
    "                \n",
    "                val = nums[i]\n",
    "                if val - last_location > r:\n",
    "                    count += 1\n",
    "                    last_location = val + r\n",
    "            return count <= 3\n",
    "        nums.sort()\n",
    "        left = 0\n",
    "        right = nums[-1]\n",
    "        res = float(\"inf\")\n",
    "        itr = 0\n",
    "        while left <= right and itr < 20:\n",
    "            mid = left + (right - left) / 2\n",
    "            if valid(mid):\n",
    "                res = min(res, mid)\n",
    "                right = mid\n",
    "            else:\n",
    "                left = mid\n",
    "                itr += 1\n",
    "        return res\n",
    "ob = Solution()\n",
    "nums = [4,5,6,7]\n",
    "print(ob.solve(nums))"
   ]
  },
  {
   "cell_type": "code",
   "execution_count": 6,
   "id": "2361fd9d",
   "metadata": {},
   "outputs": [
    {
     "data": {
      "text/plain": [
       "3"
      ]
     },
     "execution_count": 6,
     "metadata": {},
     "output_type": "execute_result"
    }
   ],
   "source": [
    "\n",
    "\n",
    "def gcd(x, y):\n",
    "    gcd = 1   \n",
    "    if x % y == 0:\n",
    "        return 3   \n",
    "    for k in range(int(y / 2), 0, -1):\n",
    "        if x % k == 0 and y % k == 0:\n",
    "            gcd = k\n",
    "            break \n",
    "    return gcd\n",
    "gcd(2, 1)\n"
   ]
  },
  {
   "cell_type": "code",
   "execution_count": 28,
   "id": "c436761b",
   "metadata": {},
   "outputs": [],
   "source": [
    "sum = 1\n",
    "def gcd(x, y):\n",
    "    gcd = 1 \n",
    "    \n",
    "    if x % y == 0:\n",
    "        return y   \n",
    "    for k in range(int(y / 2), 0, -1):\n",
    "        if x % k == 0 and y % k == 0:\n",
    "            gcd = k\n",
    "            break\n",
    "    sum = x+y\n",
    "    return sum\n",
    "    "
   ]
  },
  {
   "cell_type": "code",
   "execution_count": 29,
   "id": "a618eadd",
   "metadata": {},
   "outputs": [
    {
     "data": {
      "text/plain": [
       "4"
      ]
     },
     "execution_count": 29,
     "metadata": {},
     "output_type": "execute_result"
    }
   ],
   "source": [
    "gcd(1,3)"
   ]
  },
  {
   "cell_type": "code",
   "execution_count": 3,
   "id": "b7b67ed2",
   "metadata": {},
   "outputs": [],
   "source": [
    "def solve(nums, k):\n",
    "    n = len(nums)\n",
    "    scores = [0] * n\n",
    "    scores[0] = nums[0]\n",
    "    currMax = scores[0]\n",
    "    max_pt = 0\n",
    "\n",
    "    if n < 1:\n",
    "        return 0\n",
    "    if n == 1:\n",
    "        return nums[-1]\n",
    "\n",
    "    for idx in range(1,n):\n",
    "        if max_pt >= idx - k:\n",
    "            if currMax < scores[idx-1] and idx > 0:\n",
    "                currMax = scores[idx-1]\n",
    "                max_pt = idx-1\n",
    "            else:\n",
    "                if idx - k > 0:\n",
    "                    currMax = scores[idx-k]\n",
    "                    max_pt = idx - k\n",
    "                    for p in range(idx-k, idx):\n",
    "                        if scores[p] >= currMax:\n",
    "                            max_pt = p\n",
    "                            currMax = scores[p]\n",
    "            scores[idx] = currMax + nums[idx]\n",
    "    scores[-1] = currMax + nums[-1]\n",
    "    return scores[-1]"
   ]
  },
  {
   "cell_type": "code",
   "execution_count": 7,
   "id": "1532903c",
   "metadata": {},
   "outputs": [
    {
     "name": "stdout",
     "output_type": "stream",
     "text": [
      "66\n"
     ]
    }
   ],
   "source": [
    "nums = [8,5,6,25,6,16]\n",
    "k = 3\n",
    "print(solve(nums, k))"
   ]
  },
  {
   "cell_type": "code",
   "execution_count": 18,
   "id": "0eaf9d49",
   "metadata": {},
   "outputs": [],
   "source": [
    "from functools import lru_cache\n",
    "from typing import List\n",
    "class Solution:\n",
    "    def maxScore(self, nums: List[int]) -> List[int]:\n",
    "        def gcd(a, b):\n",
    "            while a:\n",
    "                a, b = b%a, a\n",
    "            return b\n",
    "        halfplus = len(nums)//2 + 1\n",
    "        @lru_cache(None)\n",
    "        def dfs(mask, k):\n",
    "            if k == halfplus:\n",
    "                return 0\n",
    "            res = 0\n",
    "            for i in range(len(nums)):\n",
    "                for j in range(i+1, len(nums)):\n",
    "                    if not(mask & (1<<i)) and not(mask &(1<<j)):\n",
    "                        res = max(res, k*gcd(nums[i], nums[j])+dfs(mask|(1<<i)|(1<<j), k+1))\n",
    "            return res\n",
    "        return dfs(0, 1)"
   ]
  },
  {
   "cell_type": "code",
   "execution_count": 19,
   "id": "8408392f",
   "metadata": {},
   "outputs": [],
   "source": [
    "s =Solution()"
   ]
  },
  {
   "cell_type": "code",
   "execution_count": 21,
   "id": "f4ac4eb7",
   "metadata": {},
   "outputs": [
    {
     "data": {
      "text/plain": [
       "7"
      ]
     },
     "execution_count": 21,
     "metadata": {},
     "output_type": "execute_result"
    }
   ],
   "source": [
    "s.maxScore([3,4,9,5])"
   ]
  },
  {
   "cell_type": "code",
   "execution_count": 1,
   "id": "bffd27ea",
   "metadata": {},
   "outputs": [
    {
     "name": "stdout",
     "output_type": "stream",
     "text": [
      "Difference is  3\n"
     ]
    }
   ],
   "source": [
    "## Max and Minimum array diff\n",
    "\n",
    "MAX = 1000000\n",
    "prime = [True]*(MAX+1)\n",
    "def SieveOfEratosthenes():\n",
    "    prime[1] = False\n",
    "    p = 2\n",
    "    c=0\n",
    "    while (p * p <= MAX) :\n",
    "        c+= 1\n",
    "        \n",
    "        if (prime[p] == True) :\n",
    "            \n",
    "            for i in range( p * 2, MAX+1 , p):\n",
    "                prime[i] = False\n",
    "        p += 1\n",
    "def findDiff(arr, n):\n",
    "    min = MAX + 2\n",
    "    max = -1\n",
    "    for i in range(n) :\n",
    "        if (prime[arr[i]] == True) :\n",
    "\n",
    "    # set the max and min values\n",
    "            #print(\"arra \",arr[i])\n",
    "            #print(\"MAX \",max)\n",
    "            #print(\" MIN \",min)\n",
    "            if (arr[i] > max):\n",
    "                max = arr[i]\n",
    "            if (arr[i] < min):\n",
    "                min = arr[i]\n",
    "    return -1 if (max == -1) else (max - min)\n",
    "if __name__ == \"__main__\":\n",
    "\n",
    "    SieveOfEratosthenes()\n",
    "    n = 4\n",
    "    arr = [ 1, 2, 3, 5 ]\n",
    "\n",
    "    res = findDiff(arr, n)\n",
    "\n",
    "    if (res == -1):\n",
    "        print(\"No prime numbers\")\n",
    "    else:\n",
    "        print(\"Difference is \" ,res )\n"
   ]
  },
  {
   "cell_type": "code",
   "execution_count": 5,
   "id": "0bff9195",
   "metadata": {},
   "outputs": [
    {
     "name": "stdout",
     "output_type": "stream",
     "text": [
      "ram good\n"
     ]
    },
    {
     "ename": "ValueError",
     "evalue": "too many values to unpack (expected 2)",
     "output_type": "error",
     "traceback": [
      "\u001b[1;31m---------------------------------------------------------------------------\u001b[0m",
      "\u001b[1;31mValueError\u001b[0m                                Traceback (most recent call last)",
      "\u001b[1;32m<ipython-input-5-bd60b700f835>\u001b[0m in \u001b[0;36m<module>\u001b[1;34m\u001b[0m\n\u001b[1;32m----> 1\u001b[1;33m \u001b[0mval\u001b[0m\u001b[1;33m,\u001b[0m \u001b[0mb\u001b[0m \u001b[1;33m=\u001b[0m \u001b[0minput\u001b[0m\u001b[1;33m(\u001b[0m\u001b[1;33m)\u001b[0m\u001b[1;33m\u001b[0m\u001b[1;33m\u001b[0m\u001b[0m\n\u001b[0m\u001b[0;32m      2\u001b[0m \u001b[0mprint\u001b[0m\u001b[1;33m(\u001b[0m\u001b[0mval\u001b[0m\u001b[1;33m,\u001b[0m \u001b[1;34m\"\\n\"\u001b[0m\u001b[1;33m,\u001b[0m \u001b[0mb\u001b[0m\u001b[1;33m)\u001b[0m\u001b[1;33m\u001b[0m\u001b[1;33m\u001b[0m\u001b[0m\n",
      "\u001b[1;31mValueError\u001b[0m: too many values to unpack (expected 2)"
     ]
    }
   ],
   "source": [
    "val, b = input()\n",
    "print(val, \"\\n\", b)\n"
   ]
  },
  {
   "cell_type": "code",
   "execution_count": 9,
   "id": "db8836cb",
   "metadata": {},
   "outputs": [],
   "source": [
    "l=[1,4,3,5,0]\n",
    "l.sort()"
   ]
  },
  {
   "cell_type": "code",
   "execution_count": 13,
   "id": "ffa1a729",
   "metadata": {},
   "outputs": [
    {
     "name": "stdout",
     "output_type": "stream",
     "text": [
      "Enter number of elements : 2,4,3,5\n"
     ]
    },
    {
     "ename": "ValueError",
     "evalue": "invalid literal for int() with base 10: '2,4,3,5'",
     "output_type": "error",
     "traceback": [
      "\u001b[1;31m---------------------------------------------------------------------------\u001b[0m",
      "\u001b[1;31mValueError\u001b[0m                                Traceback (most recent call last)",
      "\u001b[1;32m<ipython-input-13-7929bad71a6f>\u001b[0m in \u001b[0;36m<module>\u001b[1;34m\u001b[0m\n\u001b[0;32m      4\u001b[0m \u001b[1;31m#lst = [10, 11, 12, 13, 14, 15]\u001b[0m\u001b[1;33m\u001b[0m\u001b[1;33m\u001b[0m\u001b[1;33m\u001b[0m\u001b[0m\n\u001b[0;32m      5\u001b[0m \u001b[0mlst\u001b[0m \u001b[1;33m=\u001b[0m \u001b[1;33m[\u001b[0m\u001b[1;33m]\u001b[0m\u001b[1;33m\u001b[0m\u001b[1;33m\u001b[0m\u001b[0m\n\u001b[1;32m----> 6\u001b[1;33m \u001b[0mn\u001b[0m \u001b[1;33m=\u001b[0m \u001b[0mint\u001b[0m\u001b[1;33m(\u001b[0m\u001b[0minput\u001b[0m\u001b[1;33m(\u001b[0m\u001b[1;34m\"Enter number of elements : \"\u001b[0m\u001b[1;33m)\u001b[0m\u001b[1;33m)\u001b[0m\u001b[1;33m\u001b[0m\u001b[1;33m\u001b[0m\u001b[0m\n\u001b[0m\u001b[0;32m      7\u001b[0m \u001b[0mprint\u001b[0m\u001b[1;33m(\u001b[0m\u001b[0mReverse\u001b[0m\u001b[1;33m(\u001b[0m\u001b[0mlst\u001b[0m\u001b[1;33m)\u001b[0m\u001b[1;33m)\u001b[0m\u001b[1;33m\u001b[0m\u001b[1;33m\u001b[0m\u001b[0m\n",
      "\u001b[1;31mValueError\u001b[0m: invalid literal for int() with base 10: '2,4,3,5'"
     ]
    }
   ],
   "source": [
    "\n",
    "def Reverse(lst):\n",
    "    return [ele for ele in reversed(lst)]\n",
    "\n",
    "#lst = [10, 11, 12, 13, 14, 15]\n",
    "lst = []\n",
    "n = int(input(\"Enter number of elements : \"))\n",
    "print(Reverse(lst))\n"
   ]
  },
  {
   "cell_type": "code",
   "execution_count": null,
   "id": "42f4d2de",
   "metadata": {},
   "outputs": [
    {
     "name": "stdout",
     "output_type": "stream",
     "text": [
      "Enter the size of the array ::3\n",
      "Enter the number ::\n",
      "1\n",
      "3\n",
      "4\n"
     ]
    }
   ],
   "source": [
    "def arrayreverse(A, n, p):\n",
    "    i = 0  \n",
    "    while(i<n):\n",
    "        L = i \n",
    "        R = min(i + p - 1, n - 1) \n",
    "        while (L < R):\n",
    "            A[L], A[R] = A[R], A[L]\n",
    "            L+= 1;\n",
    "            R-+1\n",
    "        i+= p\n",
    "\n",
    "A=list()\n",
    "n=int(input(\"Enter the size of the array ::\"))\n",
    "print(\"Enter the number ::\")\n",
    "for i in range(int(n)):\n",
    "    k=int(input(\"\"))\n",
    "    A.append(int(k))\n",
    "    \n",
    "p=int(input(\"Enter the size of the group ::\"))\n",
    "arrayreverse(A, n, p) \n",
    "for i in range(0, n):\n",
    "    print(A[i], end =\" \") "
   ]
  },
  {
   "cell_type": "code",
   "execution_count": 10,
   "id": "e159fbd5",
   "metadata": {},
   "outputs": [
    {
     "name": "stdout",
     "output_type": "stream",
     "text": [
      "Enter number of elements : 3\n",
      "1\n",
      "2\n",
      "3\n",
      "[3, 2, 1]\n"
     ]
    }
   ],
   "source": [
    "lst = []\n",
    " \n",
    "# number of elements as input\n",
    "n = int(input(\"Enter number of elements : \"))\n",
    " \n",
    "# iterating till the range\n",
    "for i in range(0, n):\n",
    "    ele = int(input())\n",
    " \n",
    "    lst.append(ele) # adding the element\n",
    "     \n",
    "list.reverse(lst)\n",
    "print(lst)\n"
   ]
  },
  {
   "cell_type": "code",
   "execution_count": 11,
   "id": "c6c63a24",
   "metadata": {},
   "outputs": [
    {
     "name": "stdout",
     "output_type": "stream",
     "text": [
      "[0, 1, 2, 3, 4]\n"
     ]
    }
   ],
   "source": [
    "lst = [i for i in range()]\n",
    "print(lst)"
   ]
  },
  {
   "cell_type": "code",
   "execution_count": 12,
   "id": "ee90d578",
   "metadata": {},
   "outputs": [
    {
     "name": "stdout",
     "output_type": "stream",
     "text": [
      "Enter number of elements : 4\n",
      "1 2 3 4\n"
     ]
    },
    {
     "ename": "ValueError",
     "evalue": "invalid literal for int() with base 10: '1 2 3 4'",
     "output_type": "error",
     "traceback": [
      "\u001b[1;31m---------------------------------------------------------------------------\u001b[0m",
      "\u001b[1;31mValueError\u001b[0m                                Traceback (most recent call last)",
      "\u001b[1;32m<ipython-input-12-f502779cef56>\u001b[0m in \u001b[0;36m<module>\u001b[1;34m\u001b[0m\n\u001b[0;32m      6\u001b[0m \u001b[1;31m# iterating till the range\u001b[0m\u001b[1;33m\u001b[0m\u001b[1;33m\u001b[0m\u001b[1;33m\u001b[0m\u001b[0m\n\u001b[0;32m      7\u001b[0m \u001b[1;32mfor\u001b[0m \u001b[0mi\u001b[0m \u001b[1;32min\u001b[0m \u001b[0mrange\u001b[0m\u001b[1;33m(\u001b[0m\u001b[1;36m0\u001b[0m\u001b[1;33m,\u001b[0m \u001b[0mn\u001b[0m\u001b[1;33m)\u001b[0m\u001b[1;33m:\u001b[0m\u001b[1;33m\u001b[0m\u001b[1;33m\u001b[0m\u001b[0m\n\u001b[1;32m----> 8\u001b[1;33m     \u001b[0mele\u001b[0m \u001b[1;33m=\u001b[0m \u001b[0mint\u001b[0m\u001b[1;33m(\u001b[0m\u001b[0minput\u001b[0m\u001b[1;33m(\u001b[0m\u001b[1;33m)\u001b[0m\u001b[1;33m)\u001b[0m\u001b[1;33m\u001b[0m\u001b[1;33m\u001b[0m\u001b[0m\n\u001b[0m\u001b[0;32m      9\u001b[0m \u001b[1;33m\u001b[0m\u001b[0m\n\u001b[0;32m     10\u001b[0m     \u001b[0mlst\u001b[0m\u001b[1;33m.\u001b[0m\u001b[0mappend\u001b[0m\u001b[1;33m(\u001b[0m\u001b[0mele\u001b[0m\u001b[1;33m)\u001b[0m \u001b[1;31m# adding the element\u001b[0m\u001b[1;33m\u001b[0m\u001b[1;33m\u001b[0m\u001b[0m\n",
      "\u001b[1;31mValueError\u001b[0m: invalid literal for int() with base 10: '1 2 3 4'"
     ]
    }
   ],
   "source": [
    "lst = [i for i in range(0,n)]\n",
    "\n",
    "n = int(input(\"Enter number of elements : \"))\n",
    " \n",
    "# iterating till the range\n",
    "for i in range(0, n):\n",
    "    ele = int(input())\n",
    " \n",
    "    lst.append(ele) # adding the element\n",
    "     \n",
    "list.reverse(lst)\n",
    "print(lst)"
   ]
  },
  {
   "cell_type": "code",
   "execution_count": 13,
   "id": "0eda9034",
   "metadata": {},
   "outputs": [
    {
     "name": "stdout",
     "output_type": "stream",
     "text": [
      "[1, 2, 3, 4, 5, 6]\n",
      "Reversed list is\n",
      "[6, 5, 4, 3, 2, 1]\n"
     ]
    }
   ],
   "source": [
    "def reverseList(A, start, end):\n",
    "    while start < end:\n",
    "        A[start], A[end] = A[end], A[start]\n",
    "        start += 1\n",
    "        end -= 1\n",
    " \n",
    "A = [1, 2, 3, 4, 5, 6]\n",
    "print(A)\n",
    "reverseList(A, 0, 5)\n",
    "print(\"Reversed list is\")\n",
    "print(A)"
   ]
  },
  {
   "cell_type": "code",
   "execution_count": null,
   "id": "5402c365",
   "metadata": {},
   "outputs": [
    {
     "name": "stdout",
     "output_type": "stream",
     "text": [
      "enter number of elements3\n"
     ]
    }
   ],
   "source": [
    "from array import *\n",
    "arr = array('i', [])\n",
    "n = int(input(\"enter number of elements\"))\n",
    "for i in range(n):\n",
    "       arr.append(int(input(\"enter the array elements\")))\n",
    "print(\"entered array is:\")\n",
    "for i in range(len(arr)):\n",
    "       print(arr[i])\n",
    "print(\"Array in reverse order: \")\n",
    "for i in range(len(arr)-1, -1, -1):\n",
    "       print(arr[i])"
   ]
  },
  {
   "cell_type": "code",
   "execution_count": 16,
   "id": "bd67ee3e",
   "metadata": {},
   "outputs": [
    {
     "name": "stdout",
     "output_type": "stream",
     "text": [
      "number enter kr le :100\n",
      "first num 100 are [1, 2, 5, 10, 17, 26, 37, 50, 65, 82, 101, 122, 145, 170, 197, 226, 257, 290, 325, 362, 401, 442, 485, 530, 577, 626, 677, 730, 785, 842, 901, 962, 1025, 1090, 1157, 1226, 1297, 1370, 1445, 1522, 1601, 1682, 1765, 1850, 1937, 2026, 2117, 2210, 2305, 2402, 2501, 2602, 2705, 2810, 2917, 3026, 3137, 3250, 3365, 3482, 3601, 3722, 3845, 3970, 4097, 4226, 4357, 4490, 4625, 4762, 4901, 5042, 5185, 5330, 5477, 5626, 5777, 5930, 6085, 6242, 6401, 6562, 6725, 6890, 7057, 7226, 7397, 7570, 7745, 7922, 8101, 8282, 8465, 8650, 8837, 9026, 9217, 9410, 9605, 9802]\n",
      "************************,'\n",
      "'\n",
      "num ends with 7 are 20\n",
      "************************,'\n",
      "'\n",
      "ass and des check\n",
      "assending list  [17, 26, 37, 145, 257]\n",
      "des list  [10, 50, 65, 82, 530, 730, 842, 962, 8650, 9410]\n",
      "no list  [1, 2, 5, 101, 122, 170, 197, 226, 290, 325, 362, 401, 442, 485, 577, 626, 677, 785, 901, 1025, 1090, 1157, 1226, 1297, 1370, 1445, 1522, 1601, 1682, 1765, 1850, 1937, 2026, 2117, 2210, 2305, 2402, 2501, 2602, 2705, 2810, 2917, 3026, 3137, 3250, 3365, 3482, 3601, 3722, 3845, 3970, 4097, 4226, 4357, 4490, 4625, 4762, 4901, 5042, 5185, 5330, 5477, 5626, 5777, 5930, 6085, 6242, 6401, 6562, 6725, 6890, 7057, 7226, 7397, 7570, 7745, 7922, 8101, 8282, 8465, 8837, 9026, 9217, 9605, 9802]\n",
      "************************,'\n",
      "'\n",
      "prime checking \n",
      "total prime  20\n",
      "prime no list  [1, 2, 5, 17, 37, 101, 197, 257, 401, 577, 677, 1297, 1601, 2917, 3137, 4357, 5477, 7057, 8101, 8837]\n"
     ]
    }
   ],
   "source": [
    "### ***** *******\n",
    "def gen(n):\n",
    "    l=[]\n",
    "    for i in range(n):\n",
    "        l.append(i**2+1)\n",
    "    return l\n",
    "\n",
    "### *****\n",
    "def count_num7(l):\n",
    "    c =0\n",
    "    for i in l:\n",
    "        if str(i)[-1]=='7':\n",
    "            c=c+1\n",
    "    return c\n",
    "\n",
    "### ****Assending and Descending **************\n",
    "def check_order(l):\n",
    "    l_asc =[]\n",
    "    l_des =[]\n",
    "    l_not =[]\n",
    "    for i in l:\n",
    "        if len(str(i)) == 1:\n",
    "            l_not.append(i)\n",
    "        else:\n",
    "            l1=list(str(i))\n",
    "            flag =False\n",
    "            for j in range(len(l1)-1):\n",
    "                if int(l1[j]) < int(l1[j+1]):\n",
    "                    flag =True\n",
    "                    \n",
    "                else:\n",
    "                    flag =False\n",
    "                    break\n",
    "            if flag:\n",
    "                l_asc.append(i)\n",
    "            else:\n",
    "                for j in range(len(l1)-1):\n",
    "                    if int(l1[j]) > int(l1[j+1]):\n",
    "                        flag =True\n",
    "                    \n",
    "                    else:\n",
    "                        flag =False\n",
    "                        break\n",
    "                if flag :\n",
    "                    l_des.append(i)\n",
    "                else:\n",
    "                    l_not.append(i)\n",
    "    print(\"assending list \", l_asc)\n",
    "    print(\"des list \", l_des)\n",
    "    print(\"no list \", l_not)\n",
    "                      \n",
    "####  ******* Prime number printing ********\n",
    "def prime(l):\n",
    "    c = 0\n",
    "    l_prime=[]\n",
    "    for i in l:\n",
    "        if all(i%j!=0 for j in range(2, i//2)):\n",
    "            c = c+1\n",
    "            l_prime.append(i)\n",
    "    print('total prime ', c)\n",
    "    print('prime no list ', l_prime)\n",
    "    \n",
    "    \n",
    "n =int(input(\"number enter kr le :\"))\n",
    "l=gen(n)\n",
    "print('first num', n ,'are', l)\n",
    "print(\"************************,'\\n'\")\n",
    "c =count_num7(l)\n",
    "print('num ends with 7 are', c)\n",
    "print(\"************************,'\\n'\")\n",
    "\n",
    "print(\"ass and des check\")\n",
    "check_order(l)\n",
    "\n",
    "print(\"************************,'\\n'\")\n",
    "\n",
    "print('prime checking ')\n",
    "prime(l)"
   ]
  },
  {
   "cell_type": "code",
   "execution_count": 8,
   "id": "56b721b6",
   "metadata": {},
   "outputs": [
    {
     "name": "stdout",
     "output_type": "stream",
     "text": [
      "2 ,3 ,5 ,7 ,11 ,13 ,17 ,19 ,23 ,29 ,31 ,37 ,41 ,43 ,47 ,53 ,59 ,61 ,67 ,71 ,73 ,79 ,83 ,89 ,97\n"
     ]
    }
   ],
   "source": [
    "def is_prime(n):\n",
    "    status = True\n",
    "    if n < 2:\n",
    "        status = False\n",
    "    else:\n",
    "        for i in range(2,n):\n",
    "            if n % i == 0:\n",
    "                status = False\n",
    "    return status\n",
    "\n",
    "for n in range(1,101):\n",
    "    if is_prime(n):\n",
    "        if n==97:\n",
    "            print(n)\n",
    "        else:\n",
    "            print (n,\",\",end=\"\")"
   ]
  },
  {
   "cell_type": "code",
   "execution_count": 14,
   "id": "82cac5a5",
   "metadata": {},
   "outputs": [
    {
     "name": "stdout",
     "output_type": "stream",
     "text": [
      "total prime  20\n",
      "prime no list  [1, 2, 5, 17, 37, 101, 197, 257, 401, 577, 677, 1297, 1601, 2917, 3137, 4357, 5477, 7057, 8101, 8837]\n"
     ]
    }
   ],
   "source": [
    "def prime(l):\n",
    "    c = 0\n",
    "    l_prime=[]\n",
    "    for i in l:\n",
    "        if all(i%j!=0 for j in range(2, i//2)):\n",
    "            c = c+1\n",
    "            l_prime.append(i)\n",
    "    print('total prime ', c)\n",
    "    print('prime no list ', l_prime)\n",
    "    \n",
    "prime(l)"
   ]
  },
  {
   "cell_type": "code",
   "execution_count": null,
   "id": "86a46bd0",
   "metadata": {},
   "outputs": [],
   "source": []
  }
 ],
 "metadata": {
  "kernelspec": {
   "display_name": "Python 3",
   "language": "python",
   "name": "python3"
  },
  "language_info": {
   "codemirror_mode": {
    "name": "ipython",
    "version": 3
   },
   "file_extension": ".py",
   "mimetype": "text/x-python",
   "name": "python",
   "nbconvert_exporter": "python",
   "pygments_lexer": "ipython3",
   "version": "3.8.8"
  }
 },
 "nbformat": 4,
 "nbformat_minor": 5
}
